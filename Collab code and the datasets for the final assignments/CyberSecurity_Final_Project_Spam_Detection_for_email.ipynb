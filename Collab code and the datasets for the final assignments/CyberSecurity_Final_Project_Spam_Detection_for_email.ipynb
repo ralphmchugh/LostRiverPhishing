{
  "nbformat": 4,
  "nbformat_minor": 0,
  "metadata": {
    "colab": {
      "provenance": []
    },
    "kernelspec": {
      "name": "python3",
      "display_name": "Python 3"
    },
    "language_info": {
      "name": "python"
    }
  },
  "cells": [
    {
      "cell_type": "code",
      "execution_count": null,
      "metadata": {
        "id": "SRJWT5PTMlhd"
      },
      "outputs": [],
      "source": [
        "# In this cell I am importing all the necessary Libraries for the spam email detection that is needed\n",
        "import numpy as np # importing numpy\n",
        "import pandas as pd # importing pandas\n",
        "from sklearn.model_selection import train_test_split\n",
        "from sklearn.feature_extraction.text import CountVectorizer\n",
        "from sklearn.naive_bayes import MultinomialNB\n",
        "from sklearn.metrics import accuracy_score, confusion_matrix"
      ]
    },
    {
      "cell_type": "code",
      "source": [
        "\n",
        "\n",
        "# Here I am Loading all the three datasets that I am using for the program.\n",
        "Data_frame_1st = pd.read_csv('/content/completeSpamAssassin.csv') # path for my first spam email dataset named completeSpamAssassin.csv\n",
        "Data_frame_2nd = pd.read_csv('/content/enronSpamSubset.csv') # path for my second spam email dataset named enronSpamSubset.csv\n",
        "Data_frame_3rd = pd.read_csv('/content/lingSpam.csv') # path for my third spam email dataset named lingspam.csv\n",
        "\n",
        "# This will print all the columns for the verifications\n",
        "print(\"Columns in Data_frame_1st:\", Data_frame_1st.columns)\n",
        "print(\"Columns in Data_frame_2nd:\", Data_frame_2nd.columns)\n",
        "print(\"Columns in Data_frame_3rd:\", Data_frame_3rd.columns)\n",
        "\n",
        "# This will help in making sure that all the dataframes have the same structure by adding missing columns if necessary in their respective column\n",
        "dataframes = [Data_frame_1st, Data_frame_2nd, Data_frame_3rd]\n",
        "for df in dataframes:\n",
        "    if 'Subject' not in df.columns:\n",
        "        df['Subject'] = ''  # This will add an empty subject comlumn if it is not present in the dataframe."
      ],
      "metadata": {
        "colab": {
          "base_uri": "https://localhost:8080/"
        },
        "id": "aSXsCoiUMxa-",
        "outputId": "f8e91544-9724-4bf9-e4e7-b30ddf836f8c"
      },
      "execution_count": null,
      "outputs": [
        {
          "output_type": "stream",
          "name": "stdout",
          "text": [
            "Columns in Data_frame_1st: Index(['Unnamed: 0', 'Body', 'Label'], dtype='object')\n",
            "Columns in Data_frame_2nd: Index(['Unnamed: 0.1', 'Unnamed: 0', 'Body', 'Label'], dtype='object')\n",
            "Columns in Data_frame_3rd: Index(['Unnamed: 0', 'Body', 'Label'], dtype='object')\n"
          ]
        }
      ]
    },
    {
      "cell_type": "code",
      "source": [
        "# Here we are concatinating the dataframes\n",
        "combined_dataframe = pd.concat(dataframes, ignore_index=True)\n",
        "\n",
        "# This fill fill NAN if subject or Body is not present in the column\n",
        "combined_dataframe['Subject'] = combined_dataframe['Subject'].fillna('')\n",
        "combined_dataframe['Body'] = combined_dataframe['Body'].fillna('')"
      ],
      "metadata": {
        "id": "4BSSRelNNAV1"
      },
      "execution_count": null,
      "outputs": []
    },
    {
      "cell_type": "code",
      "source": [
        "# Here we are combining the subject and the body in one column for better detection of the email if it's spam or not\n",
        "combined_dataframe['Text'] = combined_dataframe['Subject'] + \" \" + combined_dataframe['Body']\n",
        "\n",
        "# Here we are splitting the dataset into training and testing sets\n",
        "X_train, X_test, y_train, y_test = train_test_split(combined_dataframe['Text'], combined_dataframe['Label'], test_size=0.2, random_state=42)\n",
        "\n",
        "# Here we are initializing and fitting the vectorizer on the training data only\n",
        "vectorizer = CountVectorizer(stop_words='english')\n",
        "X_train = vectorizer.fit_transform(X_train)\n",
        "X_test = vectorizer.transform(X_test)"
      ],
      "metadata": {
        "id": "hiIiKN2CNGtV"
      },
      "execution_count": null,
      "outputs": []
    },
    {
      "cell_type": "code",
      "source": [
        "# Here the initialization of train the Naive Bayes classifier is being done\n",
        "model = MultinomialNB()\n",
        "model.fit(X_train, y_train)\n",
        "\n",
        "# Here we are doing prediction on the test set\n",
        "y_pred = model.predict(X_test)\n",
        "print(\"Accuracy:\", accuracy_score(y_test, y_pred))\n",
        "print(\"Confusion Matrix:\\n\", confusion_matrix(y_test, y_pred))"
      ],
      "metadata": {
        "colab": {
          "base_uri": "https://localhost:8080/"
        },
        "id": "t7B_D-z4NNv1",
        "outputId": "26af0542-e79b-4024-8dd1-d9590e4a5b1a"
      },
      "execution_count": null,
      "outputs": [
        {
          "output_type": "stream",
          "name": "stdout",
          "text": [
            "Accuracy: 0.9614044492093272\n",
            "Confusion Matrix:\n",
            " [[2255   40]\n",
            " [ 104 1332]]\n"
          ]
        }
      ]
    },
    {
      "cell_type": "code",
      "source": [
        "def predict_email(subject, body):\n",
        "    # We are sombining the subject and the body as our model for spam detections expects that\n",
        "    email_text = subject + \" \" + body\n",
        "    email_vector = vectorizer.transform([email_text])\n",
        "    prediction = model.predict(email_vector)\n",
        "    return 'The Provided Email is a Spam Email' if prediction[0] == 1 else \"The Provided Email is a Legit Email, It's not a spam Email\""
      ],
      "metadata": {
        "id": "wfu3MVRrNWL-"
      },
      "execution_count": null,
      "outputs": []
    },
    {
      "cell_type": "code",
      "source": [
        "Subject_of_the_Email = \"video lecture and quiz-2\"\n",
        "Body_of_the_Email = \"\"\"\n",
        "Dear students of CS 4416/5516,\n",
        "\n",
        "On moodle, I have posted a new video lecture on 'Defense at Low Level - Memory Safety.' The corresponding slides are also available under the Lecture Slides section. Please review them carefully.\n",
        "\n",
        "Quiz-2 will be open this Friday which will be due by October 21 (Monday). Covered topics are: Buffer Overflow, Code Injection, Other Memory Exploits, Format String Vulnerability, and Defense at Low Level.\n",
        "\n",
        "I hope your semester-wide research project is going well.\n",
        "\n",
        "Cheers.\n",
        "Minhaz Zibran.\n",
        "\"\"\"\n",
        "print(predict_email(Subject_of_the_Email, Body_of_the_Email))"
      ],
      "metadata": {
        "colab": {
          "base_uri": "https://localhost:8080/"
        },
        "id": "MnnT-nRqNnfm",
        "outputId": "46f9c14f-02ff-4e84-9f37-66c0a591319d"
      },
      "execution_count": null,
      "outputs": [
        {
          "output_type": "stream",
          "name": "stdout",
          "text": [
            "The Provided Email is a Legit Email, It's not a spam Email\n"
          ]
        }
      ]
    },
    {
      "cell_type": "code",
      "source": [
        "Subject_of_the_Email = \"Security Alert\"\n",
        "Body_of_the_Email = \"Your password has been changed. Your phone has been hacked we need your 5 digit pin.\"\n",
        "print(predict_email(Subject_of_the_Email, Body_of_the_Email))"
      ],
      "metadata": {
        "colab": {
          "base_uri": "https://localhost:8080/"
        },
        "id": "UkGXgeZRNvlv",
        "outputId": "0eef6c53-77a4-4f82-a8e0-c24482cd369f"
      },
      "execution_count": null,
      "outputs": [
        {
          "output_type": "stream",
          "name": "stdout",
          "text": [
            "The Provided Email is a Spam Email\n"
          ]
        }
      ]
    },
    {
      "cell_type": "code",
      "source": [
        "Subject_of_the_Email = \"Code Injection - video lecture posted\"\n",
        "Body_of_the_Email = \"\"\"\n",
        "\n",
        "Dear students of CS 4416/5516,\n",
        "\n",
        "On moodle, I have posted a new video lecture on \"Code Injection (Stack Smashing).\" The corresponding slides are also made available on moodle. Please review them carefully.\n",
        "\n",
        "Have a great weekend!\n",
        "\n",
        "Cheers.\n",
        "Minhaz Zibran.\n",
        "\"\"\"\n",
        "print(predict_email(Subject_of_the_Email, Body_of_the_Email))"
      ],
      "metadata": {
        "colab": {
          "base_uri": "https://localhost:8080/"
        },
        "id": "o2CLnSRDNoX2",
        "outputId": "57004e03-ab9f-4ca4-deb2-3976b42dba25"
      },
      "execution_count": null,
      "outputs": [
        {
          "output_type": "stream",
          "name": "stdout",
          "text": [
            "The Provided Email is a Legit Email, It's not a spam Email\n"
          ]
        }
      ]
    },
    {
      "cell_type": "code",
      "source": [
        "# Example usage\n",
        "Subject_of_the_Email = \"Congratulations!\"\n",
        "Body_of_the_Email = \"You've won a $1000 Walmart gift card. Click here to claim now.\"\n",
        "print(predict_email(Subject_of_the_Email, Body_of_the_Email))"
      ],
      "metadata": {
        "colab": {
          "base_uri": "https://localhost:8080/"
        },
        "id": "8ZLcA3xaNsAG",
        "outputId": "44abe6c5-a614-4ae6-98f4-49edb93571cf"
      },
      "execution_count": null,
      "outputs": [
        {
          "output_type": "stream",
          "name": "stdout",
          "text": [
            "The Provided Email is a Spam Email\n"
          ]
        }
      ]
    },
    {
      "cell_type": "code",
      "source": [
        "Subject_of_the_Email = \"Unlock Incredible Savings on Your Next Vacation! Exclusive Offers Just for You!\"\n",
        "Body_of_the_Email = \"\"\"\n",
        "\n",
        "\"Dear Valued Customer,\n",
        "\n",
        "We are excited to announce our biggest getaway deal of the season exclusively available to our loyal subscribers! This limited-time offer includes amazing discounts on some of our most popular destinations around the globe.\n",
        "\n",
        "Here’s what you can expect with this exclusive package:\n",
        "\n",
        "Up to 50% off our luxury suites in the Caribbean.\n",
        "Complimentary meals and beverages throughout your stay.\n",
        "A free guided tour of the city’s historical landmarks.\n",
        "A welcome gift basket upon your arrival, filled with local delicacies and handpicked souvenirs.\n",
        "But that's not all! If you book your vacation within the next 48 hours, you’ll also receive an additional 10% discount on your total booking costs. Our goal is to provide you with the most memorable and affordable travel experience possible.\n",
        "\n",
        "To take advantage of this spectacular offer, simply click on the link below and enter the promo code 'TRAVEL2024' at checkout. Hurry, this offer expires soon, and availability is limited!\n",
        "\n",
        "Book Your Dream Vacation Now!\n",
        "\n",
        "If you have any questions or need further assistance, please do not hesitate to contact our customer support team at support@traveldeals.com or call us at 1-800-555-TRAVEL.\n",
        "\n",
        "Thank you for choosing us as your travel partner. We look forward to helping you create unforgettable memories on your next vacation.\n",
        "\n",
        "Warm regards, The Travel Deals Team\"\n",
        "\"\"\"\n",
        "print(predict_email(Subject_of_the_Email, Body_of_the_Email))"
      ],
      "metadata": {
        "colab": {
          "base_uri": "https://localhost:8080/"
        },
        "id": "TZIx-q6vNtdv",
        "outputId": "f0d8824d-c7fc-4b73-944e-8cd802ab3289"
      },
      "execution_count": null,
      "outputs": [
        {
          "output_type": "stream",
          "name": "stdout",
          "text": [
            "The Provided Email is a Spam Email\n"
          ]
        }
      ]
    }
  ]
}